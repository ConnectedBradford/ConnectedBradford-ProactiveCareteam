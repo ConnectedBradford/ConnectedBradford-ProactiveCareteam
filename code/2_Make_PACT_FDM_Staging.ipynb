{
 "cells": [
  {
   "cell_type": "code",
   "execution_count": 1,
   "id": "79f3661f-676d-4c14-abd3-02660031f1e2",
   "metadata": {},
   "outputs": [
    {
     "name": "stderr",
     "output_type": "stream",
     "text": [
      "\n",
      "Attaching package: ‘lubridate’\n",
      "\n",
      "\n",
      "The following objects are masked from ‘package:base’:\n",
      "\n",
      "    date, intersect, setdiff, union\n",
      "\n",
      "\n"
     ]
    },
    {
     "name": "stdout",
     "output_type": "stream",
     "text": [
      "[1] \"yhcr-prd-phm-bia-core.CB_STAGING_DATABASE_FDM_Format\"\n",
      "[1] \"yhcr-prd-phm-bia-core.CB_FDM_PACT\"\n"
     ]
    }
   ],
   "source": [
    "#2_Make_PACT_FDM_Staging\n",
    "##last modified 20240426\n",
    "\n",
    "#Builds the PACT FDM\n",
    "#Assumes that the targetdb below exists\n",
    "#Needs code to build it if it doesn't\n",
    "\n",
    "#You will need to manually amend thesource  to your space for this script\n",
    "\n",
    "library(bigrquery)\n",
    "library(lubridate) \n",
    "\n",
    "# Store the project ID\n",
    "project_id = \"yhcr-prd-phm-bia-core\"\n",
    "\n",
    "sourcedb <-\"yhcr-prd-phm-bia-core.CB_MYSPACE_JDB\"\n",
    "targetdb <-\"yhcr-prd-phm-bia-core.CB_STAGING_DATABASE_FDM_Format\"\n",
    "targetdb <-gsub(' ','',targetdb)\n",
    "print (sourcedb) \n",
    "print (targetdb)\n"
   ]
  },
  {
   "cell_type": "code",
   "execution_count": 2,
   "id": "5b8a0930-0a78-4abb-b723-8a3f02701729",
   "metadata": {},
   "outputs": [
    {
     "data": {
      "text/html": [
       "<table class=\"dataframe\">\n",
       "<caption>A tibble: 2 × 1</caption>\n",
       "<thead>\n",
       "\t<tr><th scope=col>table_name</th></tr>\n",
       "\t<tr><th scope=col>&lt;chr&gt;</th></tr>\n",
       "</thead>\n",
       "<tbody>\n",
       "\t<tr><td>tbl_PACT_evaluation_contacts</td></tr>\n",
       "\t<tr><td>tbl_PACT_evaluation_detail  </td></tr>\n",
       "</tbody>\n",
       "</table>\n"
      ],
      "text/latex": [
       "A tibble: 2 × 1\n",
       "\\begin{tabular}{l}\n",
       " table\\_name\\\\\n",
       " <chr>\\\\\n",
       "\\hline\n",
       "\t tbl\\_PACT\\_evaluation\\_contacts\\\\\n",
       "\t tbl\\_PACT\\_evaluation\\_detail  \\\\\n",
       "\\end{tabular}\n"
      ],
      "text/markdown": [
       "\n",
       "A tibble: 2 × 1\n",
       "\n",
       "| table_name &lt;chr&gt; |\n",
       "|---|\n",
       "| tbl_PACT_evaluation_contacts |\n",
       "| tbl_PACT_evaluation_detail   |\n",
       "\n"
      ],
      "text/plain": [
       "  table_name                  \n",
       "1 tbl_PACT_evaluation_contacts\n",
       "2 tbl_PACT_evaluation_detail  "
      ]
     },
     "metadata": {},
     "output_type": "display_data"
    },
    {
     "name": "stdout",
     "output_type": "stream",
     "text": [
      "[1] \"Done builder table\"\n"
     ]
    }
   ],
   "source": [
    "\n",
    "\n",
    "\n",
    "sql3 <-paste('drop table if exists ' ,targetdb,'.tbl_PACT_evaluation_contacts;', sep = \"\")\n",
    "tb3 <- bq_project_query(project_id, sql3)\n",
    "\n",
    "table <- bq_table_download(tb3)\n",
    "#table \n",
    "\n",
    "\n",
    "sql4 <-paste('drop table if exists ' ,targetdb,'.tbl_PACT_evaluation_detail;', sep = \"\")\n",
    "tb3 <- bq_project_query(project_id, sql4)\n",
    "\n",
    "table <- bq_table_download(tb4)\n",
    "#table \n",
    "\n",
    "fred <-paste('tables dropped in target ' ,Sys.time() + hours(1), sep = \"\")\n",
    "print (fred)\n",
    "\n",
    "sql5 <-paste('create table ' ,targetdb,'.tbl_PACT_evaluation_detail\n",
    "as\n",
    "SELECT \n",
    "dem.person_id, \n",
    "cast(left(date_of_referral,10) as date) as tbl_PACT_evaluation_detail_start_date,\n",
    "cast(left(Discharge_date,10) as date) as tbl_PACT_evaluation_detail_end_date\n",
    ", src.*\n",
    " FROM ' ,sourcedb,'.tbl_PACT_Evaluation_detail_data  src\n",
    " , CB_STAGING_DATABASE.src_DemoGraphics_MASTER dem\n",
    " where src.digest = dem.digest;', sep = \"\")\n",
    "tb5 <- bq_project_query(project_id, sql5)\n",
    "\n",
    "table <- bq_table_download(tb5) \n",
    "\n",
    "sql6 <-paste(' create table ' ,targetdb,'.tbl_PACT_evaluation_contacts\n",
    "as\n",
    "SELECT \n",
    "dem.person_id, \n",
    "cast(left(date_of_referral,10) as date) as tbl_PACT_evaluation_contacts_start_date,\n",
    "cast(left(Discharge_date,10) as date) as tbl_PACT_evaluation_contacts_end_date\n",
    ", src.*\n",
    " FROM ' ,sourcedb,'.tbl_PACT_Evaluation_contacts_data src\n",
    " , CB_STAGING_DATABASE.src_DemoGraphics_MASTER dem\n",
    " where src.digest = dem.digest;', sep = \"\")\n",
    "\n",
    "tb6 <- bq_project_query(project_id, sql6)\n",
    "\n",
    "table <- bq_table_download(tb6) \n",
    "\n",
    "fred <-paste('Tables rebuilt in target database ' ,Sys.time() + hours(1), sep = \"\")\n",
    "print (fred)\n"
   ]
  },
  {
   "cell_type": "code",
   "execution_count": null,
   "id": "847b9c0c-0955-4b4d-b625-d23ad76ffacb",
   "metadata": {},
   "outputs": [],
   "source": []
  }
 ],
 "metadata": {
  "environment": {
   "kernel": "ir",
   "name": "r-cpu.4-2.m110",
   "type": "gcloud",
   "uri": "gcr.io/deeplearning-platform-release/r-cpu.4-2:m110"
  },
  "kernelspec": {
   "display_name": "R",
   "language": "R",
   "name": "ir"
  },
  "language_info": {
   "codemirror_mode": "r",
   "file_extension": ".r",
   "mimetype": "text/x-r-source",
   "name": "R",
   "pygments_lexer": "r",
   "version": "4.3.1"
  }
 },
 "nbformat": 4,
 "nbformat_minor": 5
}
