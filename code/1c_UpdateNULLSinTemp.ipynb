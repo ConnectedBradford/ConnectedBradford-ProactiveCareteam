{
 "cells": [
  {
   "cell_type": "code",
   "execution_count": 1,
   "id": "e86d5a61-23db-4dd7-b17a-5c78eb4f17cd",
   "metadata": {},
   "outputs": [
    {
     "name": "stderr",
     "output_type": "stream",
     "text": [
      "\n",
      "Attaching package: ‘lubridate’\n",
      "\n",
      "\n",
      "The following objects are masked from ‘package:base’:\n",
      "\n",
      "    date, intersect, setdiff, union\n",
      "\n",
      "\n"
     ]
    }
   ],
   "source": [
    "\n",
    "library(bigrquery)\n",
    "library(lubridate) \n",
    "\n",
    "# Store the project ID\n",
    "project_id = \"yhcr-prd-phm-bia-core\"\n",
    "\n",
    "sourcedb <-\"yhcr-prd-phm-bia-core.CB_MYSPACE_JDB\"\n"
   ]
  },
  {
   "cell_type": "code",
   "execution_count": 4,
   "id": "fbd5a61a-b76e-4076-9753-06b06cab43e3",
   "metadata": {},
   "outputs": [
    {
     "data": {
      "text/html": [
       "<table class=\"dataframe\">\n",
       "<caption>A tibble: 14 × 2</caption>\n",
       "<thead>\n",
       "\t<tr><th scope=col>table_name</th><th scope=col>column_name</th></tr>\n",
       "\t<tr><th scope=col>&lt;chr&gt;</th><th scope=col>&lt;chr&gt;</th></tr>\n",
       "</thead>\n",
       "<tbody>\n",
       "\t<tr><td>tbl_PACT_Evaluation_contacts_data</td><td>date_of_referral          </td></tr>\n",
       "\t<tr><td>tbl_PACT_Evaluation_contacts_data</td><td>discharge_date            </td></tr>\n",
       "\t<tr><td>tbl_PACT_Evaluation_contacts_data</td><td>datereceived              </td></tr>\n",
       "\t<tr><td>tbl_PACT_Evaluation_contacts_data</td><td>daterecieved              </td></tr>\n",
       "\t<tr><td>tbl_PACT_Evaluation_detail_data  </td><td>age_at_referral_to_service</td></tr>\n",
       "\t<tr><td>tbl_PACT_Evaluation_detail_data  </td><td>main_spoken_language      </td></tr>\n",
       "\t<tr><td>tbl_PACT_Evaluation_detail_data  </td><td>date_of_referral          </td></tr>\n",
       "\t<tr><td>tbl_PACT_Evaluation_detail_data  </td><td>date_of_initial_eq5d      </td></tr>\n",
       "\t<tr><td>tbl_PACT_Evaluation_detail_data  </td><td>date_of_final_eq5d        </td></tr>\n",
       "\t<tr><td>tbl_PACT_Evaluation_detail_data  </td><td>date_of_initial_tom       </td></tr>\n",
       "\t<tr><td>tbl_PACT_Evaluation_detail_data  </td><td>date_of_final_tom         </td></tr>\n",
       "\t<tr><td>tbl_PACT_Evaluation_detail_data  </td><td>discharge_date            </td></tr>\n",
       "\t<tr><td>tbl_PACT_Evaluation_detail_data  </td><td>datereceived              </td></tr>\n",
       "\t<tr><td>tbl_PACT_Evaluation_detail_data  </td><td>daterecieved              </td></tr>\n",
       "</tbody>\n",
       "</table>\n"
      ],
      "text/latex": [
       "A tibble: 14 × 2\n",
       "\\begin{tabular}{ll}\n",
       " table\\_name & column\\_name\\\\\n",
       " <chr> & <chr>\\\\\n",
       "\\hline\n",
       "\t tbl\\_PACT\\_Evaluation\\_contacts\\_data & date\\_of\\_referral          \\\\\n",
       "\t tbl\\_PACT\\_Evaluation\\_contacts\\_data & discharge\\_date            \\\\\n",
       "\t tbl\\_PACT\\_Evaluation\\_contacts\\_data & datereceived              \\\\\n",
       "\t tbl\\_PACT\\_Evaluation\\_contacts\\_data & daterecieved              \\\\\n",
       "\t tbl\\_PACT\\_Evaluation\\_detail\\_data   & age\\_at\\_referral\\_to\\_service\\\\\n",
       "\t tbl\\_PACT\\_Evaluation\\_detail\\_data   & main\\_spoken\\_language      \\\\\n",
       "\t tbl\\_PACT\\_Evaluation\\_detail\\_data   & date\\_of\\_referral          \\\\\n",
       "\t tbl\\_PACT\\_Evaluation\\_detail\\_data   & date\\_of\\_initial\\_eq5d      \\\\\n",
       "\t tbl\\_PACT\\_Evaluation\\_detail\\_data   & date\\_of\\_final\\_eq5d        \\\\\n",
       "\t tbl\\_PACT\\_Evaluation\\_detail\\_data   & date\\_of\\_initial\\_tom       \\\\\n",
       "\t tbl\\_PACT\\_Evaluation\\_detail\\_data   & date\\_of\\_final\\_tom         \\\\\n",
       "\t tbl\\_PACT\\_Evaluation\\_detail\\_data   & discharge\\_date            \\\\\n",
       "\t tbl\\_PACT\\_Evaluation\\_detail\\_data   & datereceived              \\\\\n",
       "\t tbl\\_PACT\\_Evaluation\\_detail\\_data   & daterecieved              \\\\\n",
       "\\end{tabular}\n"
      ],
      "text/markdown": [
       "\n",
       "A tibble: 14 × 2\n",
       "\n",
       "| table_name &lt;chr&gt; | column_name &lt;chr&gt; |\n",
       "|---|---|\n",
       "| tbl_PACT_Evaluation_contacts_data | date_of_referral           |\n",
       "| tbl_PACT_Evaluation_contacts_data | discharge_date             |\n",
       "| tbl_PACT_Evaluation_contacts_data | datereceived               |\n",
       "| tbl_PACT_Evaluation_contacts_data | daterecieved               |\n",
       "| tbl_PACT_Evaluation_detail_data   | age_at_referral_to_service |\n",
       "| tbl_PACT_Evaluation_detail_data   | main_spoken_language       |\n",
       "| tbl_PACT_Evaluation_detail_data   | date_of_referral           |\n",
       "| tbl_PACT_Evaluation_detail_data   | date_of_initial_eq5d       |\n",
       "| tbl_PACT_Evaluation_detail_data   | date_of_final_eq5d         |\n",
       "| tbl_PACT_Evaluation_detail_data   | date_of_initial_tom        |\n",
       "| tbl_PACT_Evaluation_detail_data   | date_of_final_tom          |\n",
       "| tbl_PACT_Evaluation_detail_data   | discharge_date             |\n",
       "| tbl_PACT_Evaluation_detail_data   | datereceived               |\n",
       "| tbl_PACT_Evaluation_detail_data   | daterecieved               |\n",
       "\n"
      ],
      "text/plain": [
       "   table_name                        column_name               \n",
       "1  tbl_PACT_Evaluation_contacts_data date_of_referral          \n",
       "2  tbl_PACT_Evaluation_contacts_data discharge_date            \n",
       "3  tbl_PACT_Evaluation_contacts_data datereceived              \n",
       "4  tbl_PACT_Evaluation_contacts_data daterecieved              \n",
       "5  tbl_PACT_Evaluation_detail_data   age_at_referral_to_service\n",
       "6  tbl_PACT_Evaluation_detail_data   main_spoken_language      \n",
       "7  tbl_PACT_Evaluation_detail_data   date_of_referral          \n",
       "8  tbl_PACT_Evaluation_detail_data   date_of_initial_eq5d      \n",
       "9  tbl_PACT_Evaluation_detail_data   date_of_final_eq5d        \n",
       "10 tbl_PACT_Evaluation_detail_data   date_of_initial_tom       \n",
       "11 tbl_PACT_Evaluation_detail_data   date_of_final_tom         \n",
       "12 tbl_PACT_Evaluation_detail_data   discharge_date            \n",
       "13 tbl_PACT_Evaluation_detail_data   datereceived              \n",
       "14 tbl_PACT_Evaluation_detail_data   daterecieved              "
      ]
     },
     "metadata": {},
     "output_type": "display_data"
    }
   ],
   "source": [
    "#Using a loop to make the text nuill into actual nulls\n",
    "#Your loop references this table\n",
    "#You run this to load the list of tables into the dataframe \"table\"\n",
    "\n",
    "sql3 <-paste('select table_name, column_name  from ' ,sourcedb,'.INFORMATION_SCHEMA.COLUMNS where data_type = \"STRING\" \n",
    "and table_name like \"%PACT%\" and (column_name like \"%date%\" or column_name like \"%dt%\" or column_name like \"%age%\" or column_name like \"%time%\")  ;', sep = \"\")\n",
    "tb3 <- bq_project_query(project_id, sql3)\n",
    "\n",
    "table <- bq_table_download(tb3)\n",
    "table "
   ]
  },
  {
   "cell_type": "code",
   "execution_count": 5,
   "id": "4b32da8c-6757-465f-805a-e18a89f5ced4",
   "metadata": {},
   "outputs": [
    {
     "name": "stdout",
     "output_type": "stream",
     "text": [
      "[1] \"Done all nulls 2024-04-25 17:51:14.507052\"\n",
      "[1] \"Now open BigQuery and run Make_Staging_Database_Warehouse_FDM_Format\"\n",
      "[1] \"Once complete you can then run 2_Make_Warehouse_FDM_FULL_V1.0.ipynb\"\n"
     ]
    }
   ],
   "source": [
    "#This then loops through the data frame until the end\n",
    "# uses the two variables table[[i, 1]] and table[[i, 2]]\n",
    "# in the query\n",
    "\n",
    "for(i in 2:nrow(table)) \n",
    "{\n",
    "# for-loop over columns\n",
    "#    print(paste0(\"Table: \", table[[i, 1]]))\n",
    "#    print(paste0(\"Table: \", table[[i, 2]]))\n",
    "    temp_sql_query  <-paste('update ' ,sourcedb,'.',table[[i, 1]] ,' set ', table[[i, 2]] ,' = null where ', table[[i, 2]] , ' = \"NULL\"'  , sep = \"\") \n",
    "#    print (temp_sql_query)    \n",
    "    temp_queried_table <- bq_project_query(project_id, temp_sql_query)\n",
    "    #section below just brings this back to R \n",
    "    #temp_table <- bq_table_download(temp_queried_table)\n",
    "\n",
    "    #Prints out a confirmation message for each update\n",
    "    #print(paste0(\"Done: \", table[[1, 1]],' ', table[[1, 2]]))\n",
    "    #cat(\"\\n\")\n",
    "}\n",
    "\n",
    "\n",
    "fred <-paste('Done all nulls ' ,Sys.time() + hours(1), sep = \"\")\n",
    "print (fred)\n",
    "\n",
    "print('Now open BigQuery and run Make_Staging_Database_Warehouse_FDM_Format')\n",
    "print('Once complete you can then run 2_Make_Warehouse_FDM_FULL_V1.0.ipynb')"
   ]
  },
  {
   "cell_type": "code",
   "execution_count": null,
   "id": "33f8dfb3-d799-4a10-800d-9d8fb665b60d",
   "metadata": {},
   "outputs": [],
   "source": []
  }
 ],
 "metadata": {
  "environment": {
   "kernel": "ir",
   "name": "r-cpu.4-2.m110",
   "type": "gcloud",
   "uri": "gcr.io/deeplearning-platform-release/r-cpu.4-2:m110"
  },
  "kernelspec": {
   "display_name": "R",
   "language": "R",
   "name": "ir"
  },
  "language_info": {
   "codemirror_mode": "r",
   "file_extension": ".r",
   "mimetype": "text/x-r-source",
   "name": "R",
   "pygments_lexer": "r",
   "version": "4.3.1"
  }
 },
 "nbformat": 4,
 "nbformat_minor": 5
}
