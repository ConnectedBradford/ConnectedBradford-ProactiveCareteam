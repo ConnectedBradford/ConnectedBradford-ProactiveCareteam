{
 "cells": [
  {
   "cell_type": "code",
   "execution_count": 1,
   "id": "842b9566-0ba2-4539-9641-6e9331534354",
   "metadata": {},
   "outputs": [
    {
     "name": "stderr",
     "output_type": "stream",
     "text": [
      "/opt/conda/lib/python3.7/site-packages/google/auth/_default.py:78: UserWarning: Your application has authenticated using end user credentials from Google Cloud SDK without a quota project. You might receive a \"quota exceeded\" or \"API not enabled\" error. See the following page for troubleshooting: https://cloud.google.com/docs/authentication/adc-troubleshooting/user-creds. \n",
      "  warnings.warn(_CLOUD_SDK_CREDENTIALS_WARNING)\n",
      "/opt/conda/lib/python3.7/site-packages/google/auth/_default.py:78: UserWarning: Your application has authenticated using end user credentials from Google Cloud SDK without a quota project. You might receive a \"quota exceeded\" or \"API not enabled\" error. See the following page for troubleshooting: https://cloud.google.com/docs/authentication/adc-troubleshooting/user-creds. \n",
      "  warnings.warn(_CLOUD_SDK_CREDENTIALS_WARNING)\n"
     ]
    }
   ],
   "source": [
    "from google.cloud import bigquery\n",
    "from google.cloud.bigquery import LoadJobConfig\n",
    "from google.cloud.bigquery import SchemaField\n",
    "\n",
    "client = bigquery.Client()\n",
    "dataset_ref = client.dataset('CB_MYSPACE_JDB')"
   ]
  },
  {
   "cell_type": "code",
   "execution_count": null,
   "id": "ef321bc5-ee41-4012-8d43-2a22b51457e4",
   "metadata": {},
   "outputs": [],
   "source": []
  },
  {
   "cell_type": "code",
   "execution_count": 4,
   "id": "bde26293-5471-4df8-bfbf-23a1fbbf8af4",
   "metadata": {},
   "outputs": [
    {
     "name": "stdout",
     "output_type": "stream",
     "text": [
      "Loaded 4373 rows.\n"
     ]
    }
   ],
   "source": [
    "## create table tbl_PACT_Evaluation_contacts_data\n",
    "schema = [\n",
    "bigquery.SchemaField('pkid', 'STRING', mode='NULLABLE'),\n",
    "bigquery.SchemaField('digest', 'STRING', mode='NULLABLE'),\n",
    "bigquery.SchemaField('date_of_referral', 'STRING', mode='NULLABLE'),\n",
    "bigquery.SchemaField('service_offered', 'STRING', mode='NULLABLE'),\n",
    "bigquery.SchemaField('discharge_date', 'STRING', mode='NULLABLE'),\n",
    "bigquery.SchemaField('discharge_intervention', 'STRING', mode='NULLABLE'),\n",
    "bigquery.SchemaField('number_of_contacts_with_pact_team', 'STRING', mode='NULLABLE'),\n",
    "bigquery.SchemaField('cb_datasetref', 'STRING', mode='NULLABLE'),\n",
    "bigquery.SchemaField('datereceived', 'STRING', mode='NULLABLE'),\n",
    "bigquery.SchemaField('daterecieved', 'STRING', mode='NULLABLE'),\n",
    "\n",
    "]\n",
    "\n",
    "table_ref = dataset_ref.table('tbl_PACT_Evaluation_contacts_data')\n",
    "table = bigquery.Table(table_ref, schema=schema)\n",
    "#table = client.delete_table(table) \n",
    "#table = client.create_table(table)  # API request\n",
    "\n",
    "## Loading data for tbl_ae_investigation_nautilus\n",
    "\n",
    "#table_ref = client.dataset('dataset_name').table('table_name')\n",
    "\n",
    "load_config = LoadJobConfig()\n",
    "load_config.skip_leading_rows = 2\n",
    "load_config.field_delimiter=\"|\"\n",
    "write_disposition=\"WRITE_APPEND\"\n",
    "load_config.schema = schema\n",
    "uri = 'gs://bucket_autoload/tbl_PACT_Evaluation_contacts_data.txt'\n",
    "\n",
    "load_job = client.load_table_from_uri(\n",
    "    uri,\n",
    "    table_ref,\n",
    "    job_config=load_config)\n",
    "\n",
    "load_job.result()\n",
    "\n",
    "destination_table = client.get_table(table_ref)\n",
    "print('Loaded {} rows.'.format(destination_table.num_rows))\n",
    "\n",
    " "
   ]
  },
  {
   "cell_type": "code",
   "execution_count": 5,
   "id": "e79b387b-ac2c-4b47-b43a-133c4211eade",
   "metadata": {},
   "outputs": [
    {
     "name": "stdout",
     "output_type": "stream",
     "text": [
      "Loaded 4843 rows.\n"
     ]
    }
   ],
   "source": [
    "## create table tbl_PACT_Evaluation_detail_data\n",
    "schema = [\n",
    "bigquery.SchemaField('pkid', 'STRING', mode='NULLABLE'),\n",
    "bigquery.SchemaField('digest', 'STRING', mode='NULLABLE'),\n",
    "bigquery.SchemaField('age_at_referral_to_service', 'STRING', mode='NULLABLE'),\n",
    "bigquery.SchemaField('sex', 'STRING', mode='NULLABLE'),\n",
    "bigquery.SchemaField('ethnicity', 'STRING', mode='NULLABLE'),\n",
    "bigquery.SchemaField('first_part_of_postcode', 'STRING', mode='NULLABLE'),\n",
    "bigquery.SchemaField('main_spoken_language', 'STRING', mode='NULLABLE'),\n",
    "bigquery.SchemaField('reason_for_referral', 'STRING', mode='NULLABLE'),\n",
    "bigquery.SchemaField('date_of_referral', 'STRING', mode='NULLABLE'),\n",
    "bigquery.SchemaField('date_of_initial_eq5d', 'STRING', mode='NULLABLE'),\n",
    "bigquery.SchemaField('service_offered', 'STRING', mode='NULLABLE'),\n",
    "bigquery.SchemaField('initial_eq5d_response_anxiety_and_depression', 'STRING', mode='NULLABLE'),\n",
    "bigquery.SchemaField('initial_eq5d_response_mobility', 'STRING', mode='NULLABLE'),\n",
    "bigquery.SchemaField('initial_eq5d_response_pain_and_discomfort', 'STRING', mode='NULLABLE'),\n",
    "bigquery.SchemaField('initial_eq5d_response_selfcare', 'STRING', mode='NULLABLE'),\n",
    "bigquery.SchemaField('initial_eq5d_response_usual_activities', 'STRING', mode='NULLABLE'),\n",
    "bigquery.SchemaField('initial_eq5d_vas', 'STRING', mode='NULLABLE'),\n",
    "bigquery.SchemaField('date_of_final_eq5d', 'STRING', mode='NULLABLE'),\n",
    "bigquery.SchemaField('final_eq5d_response_anxiety_and_depression', 'STRING', mode='NULLABLE'),\n",
    "bigquery.SchemaField('final_eq5d_response_mobility', 'STRING', mode='NULLABLE'),\n",
    "bigquery.SchemaField('final_eq5d_response_pain_and_discomfort', 'STRING', mode='NULLABLE'),\n",
    "bigquery.SchemaField('final_eq5d_response_selfcare', 'STRING', mode='NULLABLE'),\n",
    "bigquery.SchemaField('final_eq5d_response_usual_activities', 'STRING', mode='NULLABLE'),\n",
    "bigquery.SchemaField('final_eq5d_vas', 'STRING', mode='NULLABLE'),\n",
    "bigquery.SchemaField('date_of_initial_tom', 'STRING', mode='NULLABLE'),\n",
    "bigquery.SchemaField('initial_tom_category', 'STRING', mode='NULLABLE'),\n",
    "bigquery.SchemaField('initial_tom_activity_score', 'STRING', mode='NULLABLE'),\n",
    "bigquery.SchemaField('initial_tom_carer_wellbeing_score', 'STRING', mode='NULLABLE'),\n",
    "bigquery.SchemaField('initial_tom_impairment_score', 'STRING', mode='NULLABLE'),\n",
    "bigquery.SchemaField('initial_tom_participation_score', 'STRING', mode='NULLABLE'),\n",
    "bigquery.SchemaField('initial_tom_wellbeing_score', 'STRING', mode='NULLABLE'),\n",
    "bigquery.SchemaField('final_tom_category', 'STRING', mode='NULLABLE'),\n",
    "bigquery.SchemaField('date_of_final_tom', 'STRING', mode='NULLABLE'),\n",
    "bigquery.SchemaField('final_tom_activity_score', 'STRING', mode='NULLABLE'),\n",
    "bigquery.SchemaField('final_tom_carer_wellbeing_score', 'STRING', mode='NULLABLE'),\n",
    "bigquery.SchemaField('final_tom_impairment_score', 'STRING', mode='NULLABLE'),\n",
    "bigquery.SchemaField('final_tom_participation_score', 'STRING', mode='NULLABLE'),\n",
    "bigquery.SchemaField('final_tom_wellbeing_score', 'STRING', mode='NULLABLE'),\n",
    "bigquery.SchemaField('discharge_date', 'STRING', mode='NULLABLE'),\n",
    "bigquery.SchemaField('discharge_intervention', 'STRING', mode='NULLABLE'),\n",
    "bigquery.SchemaField('cb_datasetref', 'STRING', mode='NULLABLE'),\n",
    "bigquery.SchemaField('datereceived', 'STRING', mode='NULLABLE'),\n",
    "bigquery.SchemaField('daterecieved', 'STRING', mode='NULLABLE'),\n",
    "\n",
    "]\n",
    "\n",
    "table_ref = dataset_ref.table('tbl_PACT_Evaluation_detail_data')\n",
    "table = bigquery.Table(table_ref, schema=schema)\n",
    "#table = client.delete_table(table) \n",
    "table = client.create_table(table)  # API request\n",
    "\n",
    "## Loading data for tbl_ae_investigation_nautilus\n",
    "\n",
    "#table_ref = client.dataset('dataset_name').table('table_name')\n",
    "\n",
    "load_config = LoadJobConfig()\n",
    "load_config.skip_leading_rows = 2\n",
    "load_config.field_delimiter=\"^\"\n",
    "write_disposition=\"WRITE_APPEND\"\n",
    "load_config.schema = schema\n",
    "uri = 'gs://bucket_autoload/tbl_PACT_Evaluation_detail_data.txt'\n",
    "\n",
    "load_job = client.load_table_from_uri(\n",
    "    uri,\n",
    "    table_ref,\n",
    "    job_config=load_config)\n",
    "\n",
    "load_job.result()\n",
    "\n",
    "destination_table = client.get_table(table_ref)\n",
    "print('Loaded {} rows.'.format(destination_table.num_rows))\n"
   ]
  },
  {
   "cell_type": "code",
   "execution_count": null,
   "id": "ecb8e272-602c-4c65-ad3b-c1aeb37e981d",
   "metadata": {},
   "outputs": [],
   "source": []
  }
 ],
 "metadata": {
  "environment": {
   "kernel": "python3",
   "name": "r-cpu.4-2.m110",
   "type": "gcloud",
   "uri": "gcr.io/deeplearning-platform-release/r-cpu.4-2:m110"
  },
  "kernelspec": {
   "display_name": "Python 3",
   "language": "python",
   "name": "python3"
  },
  "language_info": {
   "codemirror_mode": {
    "name": "ipython",
    "version": 3
   },
   "file_extension": ".py",
   "mimetype": "text/x-python",
   "name": "python",
   "nbconvert_exporter": "python",
   "pygments_lexer": "ipython3",
   "version": "3.7.12"
  }
 },
 "nbformat": 4,
 "nbformat_minor": 5
}
